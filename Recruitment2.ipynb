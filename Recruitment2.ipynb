{
 "cells": [
  {
   "cell_type": "code",
   "execution_count": 316,
   "metadata": {},
   "outputs": [],
   "source": [
    "#Import Libraries.\n",
    "import numpy as np\n",
    "import pandas as pd"
   ]
  },
  {
   "cell_type": "code",
   "execution_count": 317,
   "metadata": {},
   "outputs": [
    {
     "data": {
      "text/html": [
       "<div>\n",
       "<style scoped>\n",
       "    .dataframe tbody tr th:only-of-type {\n",
       "        vertical-align: middle;\n",
       "    }\n",
       "\n",
       "    .dataframe tbody tr th {\n",
       "        vertical-align: top;\n",
       "    }\n",
       "\n",
       "    .dataframe thead th {\n",
       "        text-align: right;\n",
       "    }\n",
       "</style>\n",
       "<table border=\"1\" class=\"dataframe\">\n",
       "  <thead>\n",
       "    <tr style=\"text-align: right;\">\n",
       "      <th></th>\n",
       "      <th>CandidateName</th>\n",
       "      <th>Qualification</th>\n",
       "      <th>QualLevel</th>\n",
       "      <th>GPA</th>\n",
       "      <th>CurrentEmployer</th>\n",
       "      <th>CurrentCTC</th>\n",
       "      <th>CurrentExperience</th>\n",
       "      <th>ExpectedCTC</th>\n",
       "      <th>RoleId</th>\n",
       "      <th>SourceId</th>\n",
       "      <th>EmailId</th>\n",
       "      <th>LastStage</th>\n",
       "      <th>EntryDate</th>\n",
       "    </tr>\n",
       "  </thead>\n",
       "  <tbody>\n",
       "    <tr>\n",
       "      <th>0</th>\n",
       "      <td>Jon Yang</td>\n",
       "      <td>MCA/ME</td>\n",
       "      <td>4</td>\n",
       "      <td>6.2</td>\n",
       "      <td>L&amp;T Infotech</td>\n",
       "      <td>3.14</td>\n",
       "      <td>2.37</td>\n",
       "      <td>4.3</td>\n",
       "      <td>R1</td>\n",
       "      <td>Shine</td>\n",
       "      <td>jon24@gmail.com</td>\n",
       "      <td>S8</td>\n",
       "      <td>2016-04-10</td>\n",
       "    </tr>\n",
       "    <tr>\n",
       "      <th>1</th>\n",
       "      <td>Eugene Huang</td>\n",
       "      <td>MCA/ME</td>\n",
       "      <td>4</td>\n",
       "      <td>7.2</td>\n",
       "      <td>AGC Networks</td>\n",
       "      <td>4.54</td>\n",
       "      <td>6.10</td>\n",
       "      <td>6.4</td>\n",
       "      <td>R1</td>\n",
       "      <td>Naukri</td>\n",
       "      <td>eugene10@gmail.com</td>\n",
       "      <td>S5</td>\n",
       "      <td>2016-04-12</td>\n",
       "    </tr>\n",
       "    <tr>\n",
       "      <th>2</th>\n",
       "      <td>Ruben Torres</td>\n",
       "      <td>MCA/ME</td>\n",
       "      <td>4</td>\n",
       "      <td>5.8</td>\n",
       "      <td>Mindtree</td>\n",
       "      <td>3.17</td>\n",
       "      <td>2.45</td>\n",
       "      <td>4.1</td>\n",
       "      <td>R1</td>\n",
       "      <td>Referral</td>\n",
       "      <td>ruben35@gmail.com</td>\n",
       "      <td>S3</td>\n",
       "      <td>2016-04-13</td>\n",
       "    </tr>\n",
       "    <tr>\n",
       "      <th>3</th>\n",
       "      <td>Christy Zhu</td>\n",
       "      <td>MCA/ME</td>\n",
       "      <td>4</td>\n",
       "      <td>6.5</td>\n",
       "      <td>Cybage</td>\n",
       "      <td>5.13</td>\n",
       "      <td>7.68</td>\n",
       "      <td>7.0</td>\n",
       "      <td>R1</td>\n",
       "      <td>Shine</td>\n",
       "      <td>christy12@gmail.com</td>\n",
       "      <td>S3</td>\n",
       "      <td>2016-04-14</td>\n",
       "    </tr>\n",
       "    <tr>\n",
       "      <th>4</th>\n",
       "      <td>Elizabeth Johnson</td>\n",
       "      <td>MCA/ME</td>\n",
       "      <td>4</td>\n",
       "      <td>4.3</td>\n",
       "      <td>Sphere Global</td>\n",
       "      <td>9.47</td>\n",
       "      <td>4.52</td>\n",
       "      <td>17.3</td>\n",
       "      <td>R3</td>\n",
       "      <td>Shine</td>\n",
       "      <td>elizabeth5@gmail.com</td>\n",
       "      <td>S2</td>\n",
       "      <td>2016-04-14</td>\n",
       "    </tr>\n",
       "  </tbody>\n",
       "</table>\n",
       "</div>"
      ],
      "text/plain": [
       "       CandidateName Qualification  QualLevel  GPA CurrentEmployer  \\\n",
       "0           Jon Yang        MCA/ME          4  6.2    L&T Infotech   \n",
       "1       Eugene Huang        MCA/ME          4  7.2    AGC Networks   \n",
       "2       Ruben Torres        MCA/ME          4  5.8        Mindtree   \n",
       "3        Christy Zhu        MCA/ME          4  6.5          Cybage   \n",
       "4  Elizabeth Johnson        MCA/ME          4  4.3   Sphere Global   \n",
       "\n",
       "   CurrentCTC  CurrentExperience  ExpectedCTC RoleId  SourceId  \\\n",
       "0        3.14               2.37          4.3     R1     Shine   \n",
       "1        4.54               6.10          6.4     R1    Naukri   \n",
       "2        3.17               2.45          4.1     R1  Referral   \n",
       "3        5.13               7.68          7.0     R1     Shine   \n",
       "4        9.47               4.52         17.3     R3     Shine   \n",
       "\n",
       "                EmailId LastStage  EntryDate  \n",
       "0       jon24@gmail.com        S8 2016-04-10  \n",
       "1    eugene10@gmail.com        S5 2016-04-12  \n",
       "2     ruben35@gmail.com        S3 2016-04-13  \n",
       "3   christy12@gmail.com        S3 2016-04-14  \n",
       "4  elizabeth5@gmail.com        S2 2016-04-14  "
      ]
     },
     "execution_count": 317,
     "metadata": {},
     "output_type": "execute_result"
    }
   ],
   "source": [
    "#Reading excel file.\n",
    "df=pd.read_excel('C:\\\\Users\\\\Acer\\\\OneDrive\\\\Desktop\\\\CSV files\\\\candidate_data2.xlsx')\n",
    "df.head()"
   ]
  },
  {
   "cell_type": "code",
   "execution_count": 318,
   "metadata": {},
   "outputs": [
    {
     "data": {
      "text/html": [
       "<div>\n",
       "<style scoped>\n",
       "    .dataframe tbody tr th:only-of-type {\n",
       "        vertical-align: middle;\n",
       "    }\n",
       "\n",
       "    .dataframe tbody tr th {\n",
       "        vertical-align: top;\n",
       "    }\n",
       "\n",
       "    .dataframe thead th {\n",
       "        text-align: right;\n",
       "    }\n",
       "</style>\n",
       "<table border=\"1\" class=\"dataframe\">\n",
       "  <thead>\n",
       "    <tr style=\"text-align: right;\">\n",
       "      <th></th>\n",
       "      <th>CandidateName</th>\n",
       "      <th>Qualification</th>\n",
       "      <th>QualLevel</th>\n",
       "      <th>CGPA</th>\n",
       "      <th>CurrentEmployer</th>\n",
       "      <th>CurrentCTC</th>\n",
       "      <th>CurrentExperience</th>\n",
       "      <th>ExpectedCTC</th>\n",
       "      <th>RoleId</th>\n",
       "      <th>SourceId</th>\n",
       "      <th>EmailId</th>\n",
       "      <th>LastStage</th>\n",
       "      <th>EntryDate</th>\n",
       "    </tr>\n",
       "  </thead>\n",
       "  <tbody>\n",
       "    <tr>\n",
       "      <th>0</th>\n",
       "      <td>Jon Yang</td>\n",
       "      <td>MCA/ME</td>\n",
       "      <td>4</td>\n",
       "      <td>6.2</td>\n",
       "      <td>L&amp;T Infotech</td>\n",
       "      <td>3.14</td>\n",
       "      <td>2.37</td>\n",
       "      <td>4.3</td>\n",
       "      <td>R1</td>\n",
       "      <td>Shine</td>\n",
       "      <td>jon24@gmail.com</td>\n",
       "      <td>S8</td>\n",
       "      <td>2016-04-10</td>\n",
       "    </tr>\n",
       "    <tr>\n",
       "      <th>1</th>\n",
       "      <td>Eugene Huang</td>\n",
       "      <td>MCA/ME</td>\n",
       "      <td>4</td>\n",
       "      <td>7.2</td>\n",
       "      <td>AGC Networks</td>\n",
       "      <td>4.54</td>\n",
       "      <td>6.10</td>\n",
       "      <td>6.4</td>\n",
       "      <td>R1</td>\n",
       "      <td>Naukri</td>\n",
       "      <td>eugene10@gmail.com</td>\n",
       "      <td>S5</td>\n",
       "      <td>2016-04-12</td>\n",
       "    </tr>\n",
       "    <tr>\n",
       "      <th>2</th>\n",
       "      <td>Ruben Torres</td>\n",
       "      <td>MCA/ME</td>\n",
       "      <td>4</td>\n",
       "      <td>5.8</td>\n",
       "      <td>Mindtree</td>\n",
       "      <td>3.17</td>\n",
       "      <td>2.45</td>\n",
       "      <td>4.1</td>\n",
       "      <td>R1</td>\n",
       "      <td>Referral</td>\n",
       "      <td>ruben35@gmail.com</td>\n",
       "      <td>S3</td>\n",
       "      <td>2016-04-13</td>\n",
       "    </tr>\n",
       "    <tr>\n",
       "      <th>3</th>\n",
       "      <td>Christy Zhu</td>\n",
       "      <td>MCA/ME</td>\n",
       "      <td>4</td>\n",
       "      <td>6.5</td>\n",
       "      <td>Cybage</td>\n",
       "      <td>5.13</td>\n",
       "      <td>7.68</td>\n",
       "      <td>7.0</td>\n",
       "      <td>R1</td>\n",
       "      <td>Shine</td>\n",
       "      <td>christy12@gmail.com</td>\n",
       "      <td>S3</td>\n",
       "      <td>2016-04-14</td>\n",
       "    </tr>\n",
       "    <tr>\n",
       "      <th>4</th>\n",
       "      <td>Elizabeth Johnson</td>\n",
       "      <td>MCA/ME</td>\n",
       "      <td>4</td>\n",
       "      <td>4.3</td>\n",
       "      <td>Sphere Global</td>\n",
       "      <td>9.47</td>\n",
       "      <td>4.52</td>\n",
       "      <td>17.3</td>\n",
       "      <td>R3</td>\n",
       "      <td>Shine</td>\n",
       "      <td>elizabeth5@gmail.com</td>\n",
       "      <td>S2</td>\n",
       "      <td>2016-04-14</td>\n",
       "    </tr>\n",
       "  </tbody>\n",
       "</table>\n",
       "</div>"
      ],
      "text/plain": [
       "       CandidateName Qualification  QualLevel  CGPA CurrentEmployer  \\\n",
       "0           Jon Yang        MCA/ME          4   6.2    L&T Infotech   \n",
       "1       Eugene Huang        MCA/ME          4   7.2    AGC Networks   \n",
       "2       Ruben Torres        MCA/ME          4   5.8        Mindtree   \n",
       "3        Christy Zhu        MCA/ME          4   6.5          Cybage   \n",
       "4  Elizabeth Johnson        MCA/ME          4   4.3   Sphere Global   \n",
       "\n",
       "   CurrentCTC  CurrentExperience  ExpectedCTC RoleId  SourceId  \\\n",
       "0        3.14               2.37          4.3     R1     Shine   \n",
       "1        4.54               6.10          6.4     R1    Naukri   \n",
       "2        3.17               2.45          4.1     R1  Referral   \n",
       "3        5.13               7.68          7.0     R1     Shine   \n",
       "4        9.47               4.52         17.3     R3     Shine   \n",
       "\n",
       "                EmailId LastStage  EntryDate  \n",
       "0       jon24@gmail.com        S8 2016-04-10  \n",
       "1    eugene10@gmail.com        S5 2016-04-12  \n",
       "2     ruben35@gmail.com        S3 2016-04-13  \n",
       "3   christy12@gmail.com        S3 2016-04-14  \n",
       "4  elizabeth5@gmail.com        S2 2016-04-14  "
      ]
     },
     "execution_count": 318,
     "metadata": {},
     "output_type": "execute_result"
    }
   ],
   "source": [
    "#Renaming GPA to CGPA\n",
    "df.rename(columns = {'GPA':'CGPA'}, inplace = True) \n",
    "df.head()"
   ]
  },
  {
   "cell_type": "markdown",
   "metadata": {},
   "source": [
    "## Checking null values"
   ]
  },
  {
   "cell_type": "code",
   "execution_count": 319,
   "metadata": {},
   "outputs": [
    {
     "data": {
      "text/plain": [
       "CandidateName        0\n",
       "Qualification        0\n",
       "QualLevel            0\n",
       "CGPA                 0\n",
       "CurrentEmployer      0\n",
       "CurrentCTC           0\n",
       "CurrentExperience    0\n",
       "ExpectedCTC          0\n",
       "RoleId               0\n",
       "SourceId             0\n",
       "EmailId              0\n",
       "LastStage            0\n",
       "EntryDate            0\n",
       "dtype: int64"
      ]
     },
     "execution_count": 319,
     "metadata": {},
     "output_type": "execute_result"
    }
   ],
   "source": [
    "df.isnull().sum()"
   ]
  },
  {
   "cell_type": "code",
   "execution_count": 320,
   "metadata": {},
   "outputs": [
    {
     "data": {
      "text/plain": [
       "(1000, 13)"
      ]
     },
     "execution_count": 320,
     "metadata": {},
     "output_type": "execute_result"
    }
   ],
   "source": [
    "df.shape"
   ]
  },
  {
   "cell_type": "code",
   "execution_count": 321,
   "metadata": {},
   "outputs": [
    {
     "data": {
      "text/html": [
       "<div>\n",
       "<style scoped>\n",
       "    .dataframe tbody tr th:only-of-type {\n",
       "        vertical-align: middle;\n",
       "    }\n",
       "\n",
       "    .dataframe tbody tr th {\n",
       "        vertical-align: top;\n",
       "    }\n",
       "\n",
       "    .dataframe thead th {\n",
       "        text-align: right;\n",
       "    }\n",
       "</style>\n",
       "<table border=\"1\" class=\"dataframe\">\n",
       "  <thead>\n",
       "    <tr style=\"text-align: right;\">\n",
       "      <th></th>\n",
       "      <th>Qualification</th>\n",
       "      <th>QualLevel</th>\n",
       "      <th>CGPA</th>\n",
       "      <th>CurrentCTC</th>\n",
       "      <th>CurrentExperience</th>\n",
       "      <th>ExpectedCTC</th>\n",
       "      <th>SourceId</th>\n",
       "      <th>LastStage</th>\n",
       "    </tr>\n",
       "  </thead>\n",
       "  <tbody>\n",
       "    <tr>\n",
       "      <th>0</th>\n",
       "      <td>MCA/ME</td>\n",
       "      <td>4</td>\n",
       "      <td>6.2</td>\n",
       "      <td>3.14</td>\n",
       "      <td>2.37</td>\n",
       "      <td>4.3</td>\n",
       "      <td>Shine</td>\n",
       "      <td>S8</td>\n",
       "    </tr>\n",
       "    <tr>\n",
       "      <th>1</th>\n",
       "      <td>MCA/ME</td>\n",
       "      <td>4</td>\n",
       "      <td>7.2</td>\n",
       "      <td>4.54</td>\n",
       "      <td>6.10</td>\n",
       "      <td>6.4</td>\n",
       "      <td>Naukri</td>\n",
       "      <td>S5</td>\n",
       "    </tr>\n",
       "    <tr>\n",
       "      <th>2</th>\n",
       "      <td>MCA/ME</td>\n",
       "      <td>4</td>\n",
       "      <td>5.8</td>\n",
       "      <td>3.17</td>\n",
       "      <td>2.45</td>\n",
       "      <td>4.1</td>\n",
       "      <td>Referral</td>\n",
       "      <td>S3</td>\n",
       "    </tr>\n",
       "    <tr>\n",
       "      <th>3</th>\n",
       "      <td>MCA/ME</td>\n",
       "      <td>4</td>\n",
       "      <td>6.5</td>\n",
       "      <td>5.13</td>\n",
       "      <td>7.68</td>\n",
       "      <td>7.0</td>\n",
       "      <td>Shine</td>\n",
       "      <td>S3</td>\n",
       "    </tr>\n",
       "    <tr>\n",
       "      <th>4</th>\n",
       "      <td>MCA/ME</td>\n",
       "      <td>4</td>\n",
       "      <td>4.3</td>\n",
       "      <td>9.47</td>\n",
       "      <td>4.52</td>\n",
       "      <td>17.3</td>\n",
       "      <td>Shine</td>\n",
       "      <td>S2</td>\n",
       "    </tr>\n",
       "  </tbody>\n",
       "</table>\n",
       "</div>"
      ],
      "text/plain": [
       "  Qualification  QualLevel  CGPA  CurrentCTC  CurrentExperience  ExpectedCTC  \\\n",
       "0        MCA/ME          4   6.2        3.14               2.37          4.3   \n",
       "1        MCA/ME          4   7.2        4.54               6.10          6.4   \n",
       "2        MCA/ME          4   5.8        3.17               2.45          4.1   \n",
       "3        MCA/ME          4   6.5        5.13               7.68          7.0   \n",
       "4        MCA/ME          4   4.3        9.47               4.52         17.3   \n",
       "\n",
       "   SourceId LastStage  \n",
       "0     Shine        S8  \n",
       "1    Naukri        S5  \n",
       "2  Referral        S3  \n",
       "3     Shine        S3  \n",
       "4     Shine        S2  "
      ]
     },
     "execution_count": 321,
     "metadata": {},
     "output_type": "execute_result"
    }
   ],
   "source": [
    "df.drop(['CandidateName','EmailId','EntryDate','RoleId','CurrentEmployer'],axis=1,inplace=True)\n",
    "df.head()"
   ]
  },
  {
   "cell_type": "code",
   "execution_count": 322,
   "metadata": {},
   "outputs": [
    {
     "data": {
      "text/plain": [
       "array(['MCA/ME', 'MS/MTech', 'BSc/BCS', 'Other', 'BE'], dtype=object)"
      ]
     },
     "execution_count": 322,
     "metadata": {},
     "output_type": "execute_result"
    }
   ],
   "source": [
    "#Checking unique values in \"Qualification column\"\n",
    "df.Qualification.unique()"
   ]
  },
  {
   "cell_type": "code",
   "execution_count": 323,
   "metadata": {},
   "outputs": [
    {
     "data": {
      "text/html": [
       "<div>\n",
       "<style scoped>\n",
       "    .dataframe tbody tr th:only-of-type {\n",
       "        vertical-align: middle;\n",
       "    }\n",
       "\n",
       "    .dataframe tbody tr th {\n",
       "        vertical-align: top;\n",
       "    }\n",
       "\n",
       "    .dataframe thead th {\n",
       "        text-align: right;\n",
       "    }\n",
       "</style>\n",
       "<table border=\"1\" class=\"dataframe\">\n",
       "  <thead>\n",
       "    <tr style=\"text-align: right;\">\n",
       "      <th></th>\n",
       "      <th>QualLevel</th>\n",
       "      <th>CGPA</th>\n",
       "      <th>CurrentCTC</th>\n",
       "      <th>CurrentExperience</th>\n",
       "      <th>ExpectedCTC</th>\n",
       "      <th>SourceId</th>\n",
       "      <th>LastStage</th>\n",
       "    </tr>\n",
       "  </thead>\n",
       "  <tbody>\n",
       "    <tr>\n",
       "      <th>0</th>\n",
       "      <td>4</td>\n",
       "      <td>6.2</td>\n",
       "      <td>3.14</td>\n",
       "      <td>2.37</td>\n",
       "      <td>4.3</td>\n",
       "      <td>Shine</td>\n",
       "      <td>S8</td>\n",
       "    </tr>\n",
       "    <tr>\n",
       "      <th>1</th>\n",
       "      <td>4</td>\n",
       "      <td>7.2</td>\n",
       "      <td>4.54</td>\n",
       "      <td>6.10</td>\n",
       "      <td>6.4</td>\n",
       "      <td>Naukri</td>\n",
       "      <td>S5</td>\n",
       "    </tr>\n",
       "    <tr>\n",
       "      <th>2</th>\n",
       "      <td>4</td>\n",
       "      <td>5.8</td>\n",
       "      <td>3.17</td>\n",
       "      <td>2.45</td>\n",
       "      <td>4.1</td>\n",
       "      <td>Referral</td>\n",
       "      <td>S3</td>\n",
       "    </tr>\n",
       "    <tr>\n",
       "      <th>3</th>\n",
       "      <td>4</td>\n",
       "      <td>6.5</td>\n",
       "      <td>5.13</td>\n",
       "      <td>7.68</td>\n",
       "      <td>7.0</td>\n",
       "      <td>Shine</td>\n",
       "      <td>S3</td>\n",
       "    </tr>\n",
       "    <tr>\n",
       "      <th>4</th>\n",
       "      <td>4</td>\n",
       "      <td>4.3</td>\n",
       "      <td>9.47</td>\n",
       "      <td>4.52</td>\n",
       "      <td>17.3</td>\n",
       "      <td>Shine</td>\n",
       "      <td>S2</td>\n",
       "    </tr>\n",
       "  </tbody>\n",
       "</table>\n",
       "</div>"
      ],
      "text/plain": [
       "   QualLevel  CGPA  CurrentCTC  CurrentExperience  ExpectedCTC  SourceId  \\\n",
       "0          4   6.2        3.14               2.37          4.3     Shine   \n",
       "1          4   7.2        4.54               6.10          6.4    Naukri   \n",
       "2          4   5.8        3.17               2.45          4.1  Referral   \n",
       "3          4   6.5        5.13               7.68          7.0     Shine   \n",
       "4          4   4.3        9.47               4.52         17.3     Shine   \n",
       "\n",
       "  LastStage  \n",
       "0        S8  \n",
       "1        S5  \n",
       "2        S3  \n",
       "3        S3  \n",
       "4        S2  "
      ]
     },
     "execution_count": 323,
     "metadata": {},
     "output_type": "execute_result"
    }
   ],
   "source": [
    "df.drop(['Qualification'],axis=1,inplace=True)\n",
    "df.head()"
   ]
  },
  {
   "cell_type": "code",
   "execution_count": 324,
   "metadata": {},
   "outputs": [
    {
     "data": {
      "text/plain": [
       "array(['Shine', 'Naukri', 'Referral', 'Consultant1', 'LinkedIn', 'Indeed',\n",
       "       'Consultant2'], dtype=object)"
      ]
     },
     "execution_count": 324,
     "metadata": {},
     "output_type": "execute_result"
    }
   ],
   "source": [
    "df.SourceId.unique()"
   ]
  },
  {
   "cell_type": "code",
   "execution_count": 325,
   "metadata": {},
   "outputs": [
    {
     "data": {
      "text/plain": [
       "Shine          484\n",
       "Naukri         268\n",
       "Referral       107\n",
       "Indeed          85\n",
       "LinkedIn        24\n",
       "Consultant1     20\n",
       "Consultant2     12\n",
       "Name: SourceId, dtype: int64"
      ]
     },
     "execution_count": 325,
     "metadata": {},
     "output_type": "execute_result"
    }
   ],
   "source": [
    "#Checking total count of each variable in \"SourceId\"\n",
    "source_id = df['SourceId'].value_counts(ascending=False)\n",
    "source_id"
   ]
  },
  {
   "cell_type": "code",
   "execution_count": 326,
   "metadata": {},
   "outputs": [
    {
     "data": {
      "image/png": "[encoded data removed]",
      "text/plain": [
       "<Figure size 432x288 with 1 Axes>"
      ]
     },
     "metadata": {
      "needs_background": "light"
     },
     "output_type": "display_data"
    }
   ],
   "source": [
    "#Plotting \"SourceId\" to see distribution of data in it.\n",
    "import matplotlib.pyplot as plt\n",
    "objects = ('Shine', 'Naukri', 'Referrral', 'Consultant1', 'LinkedIn', 'Indeed')\n",
    "y_pos = np.arange(len(objects))\n",
    "performance = [10,8,6,4,2,1]\n",
    "plt.bar(y_pos, performance, align='center', alpha=0.5)\n",
    "plt.xticks(y_pos, objects)\n",
    "plt.ylabel('Number of sources')\n",
    "plt.title('SourceId visuals')\n",
    "plt.show()"
   ]
  },
  {
   "cell_type": "code",
   "execution_count": 327,
   "metadata": {},
   "outputs": [
    {
     "data": {
      "text/plain": [
       "QualLevel              int64\n",
       "CGPA                 float64\n",
       "CurrentCTC           float64\n",
       "CurrentExperience    float64\n",
       "ExpectedCTC          float64\n",
       "SourceId              object\n",
       "LastStage             object\n",
       "dtype: object"
      ]
     },
     "execution_count": 327,
     "metadata": {},
     "output_type": "execute_result"
    }
   ],
   "source": [
    "#Checking Datatype.\n",
    "df.dtypes"
   ]
  },
  {
   "cell_type": "code",
   "execution_count": 328,
   "metadata": {},
   "outputs": [
    {
     "data": {
      "text/plain": [
       "array(['S8', 'S5', 'S3', 'S2', 'S4', 'S7', 'S1'], dtype=object)"
      ]
     },
     "execution_count": 328,
     "metadata": {},
     "output_type": "execute_result"
    }
   ],
   "source": [
    "df.LastStage.unique()"
   ]
  },
  {
   "cell_type": "markdown",
   "metadata": {},
   "source": [
    "## Mapping \"LastStage\" column"
   ]
  },
  {
   "cell_type": "code",
   "execution_count": 329,
   "metadata": {},
   "outputs": [
    {
     "data": {
      "text/html": [
       "<div>\n",
       "<style scoped>\n",
       "    .dataframe tbody tr th:only-of-type {\n",
       "        vertical-align: middle;\n",
       "    }\n",
       "\n",
       "    .dataframe tbody tr th {\n",
       "        vertical-align: top;\n",
       "    }\n",
       "\n",
       "    .dataframe thead th {\n",
       "        text-align: right;\n",
       "    }\n",
       "</style>\n",
       "<table border=\"1\" class=\"dataframe\">\n",
       "  <thead>\n",
       "    <tr style=\"text-align: right;\">\n",
       "      <th></th>\n",
       "      <th>QualLevel</th>\n",
       "      <th>CGPA</th>\n",
       "      <th>CurrentCTC</th>\n",
       "      <th>CurrentExperience</th>\n",
       "      <th>ExpectedCTC</th>\n",
       "      <th>SourceId</th>\n",
       "      <th>LastStage</th>\n",
       "    </tr>\n",
       "  </thead>\n",
       "  <tbody>\n",
       "    <tr>\n",
       "      <th>0</th>\n",
       "      <td>4</td>\n",
       "      <td>6.2</td>\n",
       "      <td>3.14</td>\n",
       "      <td>2.37</td>\n",
       "      <td>4.3</td>\n",
       "      <td>Shine</td>\n",
       "      <td>3</td>\n",
       "    </tr>\n",
       "    <tr>\n",
       "      <th>1</th>\n",
       "      <td>4</td>\n",
       "      <td>7.2</td>\n",
       "      <td>4.54</td>\n",
       "      <td>6.10</td>\n",
       "      <td>6.4</td>\n",
       "      <td>Naukri</td>\n",
       "      <td>2</td>\n",
       "    </tr>\n",
       "    <tr>\n",
       "      <th>2</th>\n",
       "      <td>4</td>\n",
       "      <td>5.8</td>\n",
       "      <td>3.17</td>\n",
       "      <td>2.45</td>\n",
       "      <td>4.1</td>\n",
       "      <td>Referral</td>\n",
       "      <td>1</td>\n",
       "    </tr>\n",
       "    <tr>\n",
       "      <th>3</th>\n",
       "      <td>4</td>\n",
       "      <td>6.5</td>\n",
       "      <td>5.13</td>\n",
       "      <td>7.68</td>\n",
       "      <td>7.0</td>\n",
       "      <td>Shine</td>\n",
       "      <td>1</td>\n",
       "    </tr>\n",
       "    <tr>\n",
       "      <th>4</th>\n",
       "      <td>4</td>\n",
       "      <td>4.3</td>\n",
       "      <td>9.47</td>\n",
       "      <td>4.52</td>\n",
       "      <td>17.3</td>\n",
       "      <td>Shine</td>\n",
       "      <td>1</td>\n",
       "    </tr>\n",
       "    <tr>\n",
       "      <th>5</th>\n",
       "      <td>4</td>\n",
       "      <td>6.5</td>\n",
       "      <td>2.61</td>\n",
       "      <td>0.95</td>\n",
       "      <td>3.3</td>\n",
       "      <td>Shine</td>\n",
       "      <td>2</td>\n",
       "    </tr>\n",
       "    <tr>\n",
       "      <th>6</th>\n",
       "      <td>4</td>\n",
       "      <td>8.3</td>\n",
       "      <td>4.46</td>\n",
       "      <td>5.88</td>\n",
       "      <td>6.1</td>\n",
       "      <td>Shine</td>\n",
       "      <td>3</td>\n",
       "    </tr>\n",
       "    <tr>\n",
       "      <th>7</th>\n",
       "      <td>4</td>\n",
       "      <td>7.5</td>\n",
       "      <td>3.57</td>\n",
       "      <td>3.53</td>\n",
       "      <td>4.7</td>\n",
       "      <td>Shine</td>\n",
       "      <td>2</td>\n",
       "    </tr>\n",
       "    <tr>\n",
       "      <th>8</th>\n",
       "      <td>4</td>\n",
       "      <td>5.2</td>\n",
       "      <td>2.57</td>\n",
       "      <td>0.86</td>\n",
       "      <td>4.3</td>\n",
       "      <td>Referral</td>\n",
       "      <td>1</td>\n",
       "    </tr>\n",
       "    <tr>\n",
       "      <th>9</th>\n",
       "      <td>4</td>\n",
       "      <td>4.1</td>\n",
       "      <td>3.50</td>\n",
       "      <td>3.34</td>\n",
       "      <td>5.8</td>\n",
       "      <td>Shine</td>\n",
       "      <td>1</td>\n",
       "    </tr>\n",
       "  </tbody>\n",
       "</table>\n",
       "</div>"
      ],
      "text/plain": [
       "   QualLevel  CGPA  CurrentCTC  CurrentExperience  ExpectedCTC  SourceId  \\\n",
       "0          4   6.2        3.14               2.37          4.3     Shine   \n",
       "1          4   7.2        4.54               6.10          6.4    Naukri   \n",
       "2          4   5.8        3.17               2.45          4.1  Referral   \n",
       "3          4   6.5        5.13               7.68          7.0     Shine   \n",
       "4          4   4.3        9.47               4.52         17.3     Shine   \n",
       "5          4   6.5        2.61               0.95          3.3     Shine   \n",
       "6          4   8.3        4.46               5.88          6.1     Shine   \n",
       "7          4   7.5        3.57               3.53          4.7     Shine   \n",
       "8          4   5.2        2.57               0.86          4.3  Referral   \n",
       "9          4   4.1        3.50               3.34          5.8     Shine   \n",
       "\n",
       "   LastStage  \n",
       "0          3  \n",
       "1          2  \n",
       "2          1  \n",
       "3          1  \n",
       "4          1  \n",
       "5          2  \n",
       "6          3  \n",
       "7          2  \n",
       "8          1  \n",
       "9          1  "
      ]
     },
     "execution_count": 329,
     "metadata": {},
     "output_type": "execute_result"
    }
   ],
   "source": [
    "df.LastStage = df.LastStage.map( {'S1':1 , 'S2':1, 'S3':1 , 'S4':2 , 'S5':2 , 'S6':2 , 'S7':3 , 'S8':3} )\n",
    "df.head(10)"
   ]
  },
  {
   "cell_type": "markdown",
   "metadata": {},
   "source": [
    "## Mapping \"SourceId\" column"
   ]
  },
  {
   "cell_type": "code",
   "execution_count": 330,
   "metadata": {},
   "outputs": [
    {
     "data": {
      "text/html": [
       "<div>\n",
       "<style scoped>\n",
       "    .dataframe tbody tr th:only-of-type {\n",
       "        vertical-align: middle;\n",
       "    }\n",
       "\n",
       "    .dataframe tbody tr th {\n",
       "        vertical-align: top;\n",
       "    }\n",
       "\n",
       "    .dataframe thead th {\n",
       "        text-align: right;\n",
       "    }\n",
       "</style>\n",
       "<table border=\"1\" class=\"dataframe\">\n",
       "  <thead>\n",
       "    <tr style=\"text-align: right;\">\n",
       "      <th></th>\n",
       "      <th>QualLevel</th>\n",
       "      <th>CGPA</th>\n",
       "      <th>CurrentCTC</th>\n",
       "      <th>CurrentExperience</th>\n",
       "      <th>ExpectedCTC</th>\n",
       "      <th>SourceId</th>\n",
       "      <th>LastStage</th>\n",
       "    </tr>\n",
       "  </thead>\n",
       "  <tbody>\n",
       "    <tr>\n",
       "      <th>0</th>\n",
       "      <td>4</td>\n",
       "      <td>6.2</td>\n",
       "      <td>3.14</td>\n",
       "      <td>2.37</td>\n",
       "      <td>4.3</td>\n",
       "      <td>2</td>\n",
       "      <td>3</td>\n",
       "    </tr>\n",
       "    <tr>\n",
       "      <th>1</th>\n",
       "      <td>4</td>\n",
       "      <td>7.2</td>\n",
       "      <td>4.54</td>\n",
       "      <td>6.10</td>\n",
       "      <td>6.4</td>\n",
       "      <td>3</td>\n",
       "      <td>2</td>\n",
       "    </tr>\n",
       "    <tr>\n",
       "      <th>2</th>\n",
       "      <td>4</td>\n",
       "      <td>5.8</td>\n",
       "      <td>3.17</td>\n",
       "      <td>2.45</td>\n",
       "      <td>4.1</td>\n",
       "      <td>6</td>\n",
       "      <td>1</td>\n",
       "    </tr>\n",
       "    <tr>\n",
       "      <th>3</th>\n",
       "      <td>4</td>\n",
       "      <td>6.5</td>\n",
       "      <td>5.13</td>\n",
       "      <td>7.68</td>\n",
       "      <td>7.0</td>\n",
       "      <td>2</td>\n",
       "      <td>1</td>\n",
       "    </tr>\n",
       "    <tr>\n",
       "      <th>4</th>\n",
       "      <td>4</td>\n",
       "      <td>4.3</td>\n",
       "      <td>9.47</td>\n",
       "      <td>4.52</td>\n",
       "      <td>17.3</td>\n",
       "      <td>2</td>\n",
       "      <td>1</td>\n",
       "    </tr>\n",
       "    <tr>\n",
       "      <th>5</th>\n",
       "      <td>4</td>\n",
       "      <td>6.5</td>\n",
       "      <td>2.61</td>\n",
       "      <td>0.95</td>\n",
       "      <td>3.3</td>\n",
       "      <td>2</td>\n",
       "      <td>2</td>\n",
       "    </tr>\n",
       "    <tr>\n",
       "      <th>6</th>\n",
       "      <td>4</td>\n",
       "      <td>8.3</td>\n",
       "      <td>4.46</td>\n",
       "      <td>5.88</td>\n",
       "      <td>6.1</td>\n",
       "      <td>2</td>\n",
       "      <td>3</td>\n",
       "    </tr>\n",
       "    <tr>\n",
       "      <th>7</th>\n",
       "      <td>4</td>\n",
       "      <td>7.5</td>\n",
       "      <td>3.57</td>\n",
       "      <td>3.53</td>\n",
       "      <td>4.7</td>\n",
       "      <td>2</td>\n",
       "      <td>2</td>\n",
       "    </tr>\n",
       "    <tr>\n",
       "      <th>8</th>\n",
       "      <td>4</td>\n",
       "      <td>5.2</td>\n",
       "      <td>2.57</td>\n",
       "      <td>0.86</td>\n",
       "      <td>4.3</td>\n",
       "      <td>6</td>\n",
       "      <td>1</td>\n",
       "    </tr>\n",
       "    <tr>\n",
       "      <th>9</th>\n",
       "      <td>4</td>\n",
       "      <td>4.1</td>\n",
       "      <td>3.50</td>\n",
       "      <td>3.34</td>\n",
       "      <td>5.8</td>\n",
       "      <td>2</td>\n",
       "      <td>1</td>\n",
       "    </tr>\n",
       "  </tbody>\n",
       "</table>\n",
       "</div>"
      ],
      "text/plain": [
       "   QualLevel  CGPA  CurrentCTC  CurrentExperience  ExpectedCTC  SourceId  \\\n",
       "0          4   6.2        3.14               2.37          4.3         2   \n",
       "1          4   7.2        4.54               6.10          6.4         3   \n",
       "2          4   5.8        3.17               2.45          4.1         6   \n",
       "3          4   6.5        5.13               7.68          7.0         2   \n",
       "4          4   4.3        9.47               4.52         17.3         2   \n",
       "5          4   6.5        2.61               0.95          3.3         2   \n",
       "6          4   8.3        4.46               5.88          6.1         2   \n",
       "7          4   7.5        3.57               3.53          4.7         2   \n",
       "8          4   5.2        2.57               0.86          4.3         6   \n",
       "9          4   4.1        3.50               3.34          5.8         2   \n",
       "\n",
       "   LastStage  \n",
       "0          3  \n",
       "1          2  \n",
       "2          1  \n",
       "3          1  \n",
       "4          1  \n",
       "5          2  \n",
       "6          3  \n",
       "7          2  \n",
       "8          1  \n",
       "9          1  "
      ]
     },
     "execution_count": 330,
     "metadata": {},
     "output_type": "execute_result"
    }
   ],
   "source": [
    "df.SourceId = df.SourceId.map( {'LinkedIn':4 , 'Naukri':3, 'Shine':2 , 'Indeed':1 , 'Consultant1':5 , 'Consultant2':5 , 'Referral':6} )\n",
    "df.head(10)"
   ]
  },
  {
   "cell_type": "code",
   "execution_count": 331,
   "metadata": {},
   "outputs": [
    {
     "data": {
      "text/plain": [
       "(1000, 7)"
      ]
     },
     "execution_count": 331,
     "metadata": {},
     "output_type": "execute_result"
    }
   ],
   "source": [
    "df.shape"
   ]
  },
  {
   "cell_type": "code",
   "execution_count": 332,
   "metadata": {},
   "outputs": [
    {
     "data": {
      "text/html": [
       "<div>\n",
       "<style scoped>\n",
       "    .dataframe tbody tr th:only-of-type {\n",
       "        vertical-align: middle;\n",
       "    }\n",
       "\n",
       "    .dataframe tbody tr th {\n",
       "        vertical-align: top;\n",
       "    }\n",
       "\n",
       "    .dataframe thead th {\n",
       "        text-align: right;\n",
       "    }\n",
       "</style>\n",
       "<table border=\"1\" class=\"dataframe\">\n",
       "  <thead>\n",
       "    <tr style=\"text-align: right;\">\n",
       "      <th></th>\n",
       "      <th>QualLevel</th>\n",
       "      <th>CGPA</th>\n",
       "      <th>CurrentExperience</th>\n",
       "      <th>SourceId</th>\n",
       "    </tr>\n",
       "  </thead>\n",
       "  <tbody>\n",
       "    <tr>\n",
       "      <th>0</th>\n",
       "      <td>4</td>\n",
       "      <td>6.2</td>\n",
       "      <td>2.37</td>\n",
       "      <td>2</td>\n",
       "    </tr>\n",
       "    <tr>\n",
       "      <th>1</th>\n",
       "      <td>4</td>\n",
       "      <td>7.2</td>\n",
       "      <td>6.10</td>\n",
       "      <td>3</td>\n",
       "    </tr>\n",
       "    <tr>\n",
       "      <th>2</th>\n",
       "      <td>4</td>\n",
       "      <td>5.8</td>\n",
       "      <td>2.45</td>\n",
       "      <td>6</td>\n",
       "    </tr>\n",
       "    <tr>\n",
       "      <th>3</th>\n",
       "      <td>4</td>\n",
       "      <td>6.5</td>\n",
       "      <td>7.68</td>\n",
       "      <td>2</td>\n",
       "    </tr>\n",
       "    <tr>\n",
       "      <th>4</th>\n",
       "      <td>4</td>\n",
       "      <td>4.3</td>\n",
       "      <td>4.52</td>\n",
       "      <td>2</td>\n",
       "    </tr>\n",
       "    <tr>\n",
       "      <th>5</th>\n",
       "      <td>4</td>\n",
       "      <td>6.5</td>\n",
       "      <td>0.95</td>\n",
       "      <td>2</td>\n",
       "    </tr>\n",
       "    <tr>\n",
       "      <th>6</th>\n",
       "      <td>4</td>\n",
       "      <td>8.3</td>\n",
       "      <td>5.88</td>\n",
       "      <td>2</td>\n",
       "    </tr>\n",
       "    <tr>\n",
       "      <th>7</th>\n",
       "      <td>4</td>\n",
       "      <td>7.5</td>\n",
       "      <td>3.53</td>\n",
       "      <td>2</td>\n",
       "    </tr>\n",
       "    <tr>\n",
       "      <th>8</th>\n",
       "      <td>4</td>\n",
       "      <td>5.2</td>\n",
       "      <td>0.86</td>\n",
       "      <td>6</td>\n",
       "    </tr>\n",
       "    <tr>\n",
       "      <th>9</th>\n",
       "      <td>4</td>\n",
       "      <td>4.1</td>\n",
       "      <td>3.34</td>\n",
       "      <td>2</td>\n",
       "    </tr>\n",
       "  </tbody>\n",
       "</table>\n",
       "</div>"
      ],
      "text/plain": [
       "   QualLevel  CGPA  CurrentExperience  SourceId\n",
       "0          4   6.2               2.37         2\n",
       "1          4   7.2               6.10         3\n",
       "2          4   5.8               2.45         6\n",
       "3          4   6.5               7.68         2\n",
       "4          4   4.3               4.52         2\n",
       "5          4   6.5               0.95         2\n",
       "6          4   8.3               5.88         2\n",
       "7          4   7.5               3.53         2\n",
       "8          4   5.2               0.86         6\n",
       "9          4   4.1               3.34         2"
      ]
     },
     "execution_count": 332,
     "metadata": {},
     "output_type": "execute_result"
    }
   ],
   "source": [
    "x =df.drop(['LastStage','CurrentCTC','ExpectedCTC'],axis='columns')\n",
    "x.head(10)"
   ]
  },
  {
   "cell_type": "code",
   "execution_count": 333,
   "metadata": {},
   "outputs": [
    {
     "data": {
      "text/plain": [
       "0    3\n",
       "1    2\n",
       "2    1\n",
       "3    1\n",
       "4    1\n",
       "Name: LastStage, dtype: int64"
      ]
     },
     "execution_count": 333,
     "metadata": {},
     "output_type": "execute_result"
    }
   ],
   "source": [
    "y=df.LastStage\n",
    "y.head()"
   ]
  },
  {
   "cell_type": "code",
   "execution_count": 334,
   "metadata": {},
   "outputs": [
    {
     "data": {
      "text/plain": [
       "(1000, 4)"
      ]
     },
     "execution_count": 334,
     "metadata": {},
     "output_type": "execute_result"
    }
   ],
   "source": [
    "x.shape"
   ]
  },
  {
   "cell_type": "code",
   "execution_count": 335,
   "metadata": {},
   "outputs": [
    {
     "data": {
      "text/plain": [
       "(1000,)"
      ]
     },
     "execution_count": 335,
     "metadata": {},
     "output_type": "execute_result"
    }
   ],
   "source": [
    "y.shape"
   ]
  },
  {
   "cell_type": "code",
   "execution_count": 336,
   "metadata": {},
   "outputs": [
    {
     "data": {
      "text/html": [
       "<div>\n",
       "<style scoped>\n",
       "    .dataframe tbody tr th:only-of-type {\n",
       "        vertical-align: middle;\n",
       "    }\n",
       "\n",
       "    .dataframe tbody tr th {\n",
       "        vertical-align: top;\n",
       "    }\n",
       "\n",
       "    .dataframe thead th {\n",
       "        text-align: right;\n",
       "    }\n",
       "</style>\n",
       "<table border=\"1\" class=\"dataframe\">\n",
       "  <thead>\n",
       "    <tr style=\"text-align: right;\">\n",
       "      <th></th>\n",
       "      <th>QualLevel</th>\n",
       "      <th>CGPA</th>\n",
       "      <th>CurrentCTC</th>\n",
       "      <th>CurrentExperience</th>\n",
       "      <th>ExpectedCTC</th>\n",
       "      <th>SourceId</th>\n",
       "      <th>LastStage</th>\n",
       "    </tr>\n",
       "  </thead>\n",
       "  <tbody>\n",
       "    <tr>\n",
       "      <th>count</th>\n",
       "      <td>1000.000000</td>\n",
       "      <td>1000.000000</td>\n",
       "      <td>1000.000000</td>\n",
       "      <td>1000.000000</td>\n",
       "      <td>1000.000000</td>\n",
       "      <td>1000.000000</td>\n",
       "      <td>1000.000000</td>\n",
       "    </tr>\n",
       "    <tr>\n",
       "      <th>mean</th>\n",
       "      <td>3.627000</td>\n",
       "      <td>6.217100</td>\n",
       "      <td>5.717720</td>\n",
       "      <td>4.869180</td>\n",
       "      <td>9.576200</td>\n",
       "      <td>2.755000</td>\n",
       "      <td>1.602000</td>\n",
       "    </tr>\n",
       "    <tr>\n",
       "      <th>std</th>\n",
       "      <td>1.165001</td>\n",
       "      <td>1.171285</td>\n",
       "      <td>4.049182</td>\n",
       "      <td>2.839447</td>\n",
       "      <td>9.474844</td>\n",
       "      <td>1.371443</td>\n",
       "      <td>0.622884</td>\n",
       "    </tr>\n",
       "    <tr>\n",
       "      <th>min</th>\n",
       "      <td>1.000000</td>\n",
       "      <td>3.500000</td>\n",
       "      <td>1.210000</td>\n",
       "      <td>0.030000</td>\n",
       "      <td>1.600000</td>\n",
       "      <td>1.000000</td>\n",
       "      <td>1.000000</td>\n",
       "    </tr>\n",
       "    <tr>\n",
       "      <th>25%</th>\n",
       "      <td>3.000000</td>\n",
       "      <td>5.400000</td>\n",
       "      <td>3.280000</td>\n",
       "      <td>2.417500</td>\n",
       "      <td>4.575000</td>\n",
       "      <td>2.000000</td>\n",
       "      <td>1.000000</td>\n",
       "    </tr>\n",
       "    <tr>\n",
       "      <th>50%</th>\n",
       "      <td>4.000000</td>\n",
       "      <td>6.300000</td>\n",
       "      <td>4.485000</td>\n",
       "      <td>4.770000</td>\n",
       "      <td>6.200000</td>\n",
       "      <td>2.000000</td>\n",
       "      <td>2.000000</td>\n",
       "    </tr>\n",
       "    <tr>\n",
       "      <th>75%</th>\n",
       "      <td>5.000000</td>\n",
       "      <td>7.100000</td>\n",
       "      <td>6.480000</td>\n",
       "      <td>7.275000</td>\n",
       "      <td>9.400000</td>\n",
       "      <td>3.000000</td>\n",
       "      <td>2.000000</td>\n",
       "    </tr>\n",
       "    <tr>\n",
       "      <th>max</th>\n",
       "      <td>5.000000</td>\n",
       "      <td>9.000000</td>\n",
       "      <td>27.580000</td>\n",
       "      <td>9.990000</td>\n",
       "      <td>65.100000</td>\n",
       "      <td>6.000000</td>\n",
       "      <td>3.000000</td>\n",
       "    </tr>\n",
       "  </tbody>\n",
       "</table>\n",
       "</div>"
      ],
      "text/plain": [
       "         QualLevel         CGPA   CurrentCTC  CurrentExperience  ExpectedCTC  \\\n",
       "count  1000.000000  1000.000000  1000.000000        1000.000000  1000.000000   \n",
       "mean      3.627000     6.217100     5.717720           4.869180     9.576200   \n",
       "std       1.165001     1.171285     4.049182           2.839447     9.474844   \n",
       "min       1.000000     3.500000     1.210000           0.030000     1.600000   \n",
       "25%       3.000000     5.400000     3.280000           2.417500     4.575000   \n",
       "50%       4.000000     6.300000     4.485000           4.770000     6.200000   \n",
       "75%       5.000000     7.100000     6.480000           7.275000     9.400000   \n",
       "max       5.000000     9.000000    27.580000           9.990000    65.100000   \n",
       "\n",
       "          SourceId    LastStage  \n",
       "count  1000.000000  1000.000000  \n",
       "mean      2.755000     1.602000  \n",
       "std       1.371443     0.622884  \n",
       "min       1.000000     1.000000  \n",
       "25%       2.000000     1.000000  \n",
       "50%       2.000000     2.000000  \n",
       "75%       3.000000     2.000000  \n",
       "max       6.000000     3.000000  "
      ]
     },
     "execution_count": 336,
     "metadata": {},
     "output_type": "execute_result"
    }
   ],
   "source": [
    "df.describe()"
   ]
  },
  {
   "cell_type": "markdown",
   "metadata": {},
   "source": [
    "## Splitting dataset to train & test data"
   ]
  },
  {
   "cell_type": "code",
   "execution_count": 337,
   "metadata": {},
   "outputs": [],
   "source": [
    "from sklearn.model_selection import train_test_split\n",
    "x_train, x_test, y_train, y_test = train_test_split(x,y,test_size=0.2,random_state=10)"
   ]
  },
  {
   "cell_type": "code",
   "execution_count": 338,
   "metadata": {},
   "outputs": [],
   "source": [
    "#Importing Classifiers\n",
    "from sklearn.neighbors import KNeighborsClassifier\n",
    "from sklearn.tree import DecisionTreeClassifier\n",
    "from sklearn.ensemble import RandomForestClassifier\n",
    "from sklearn.naive_bayes import GaussianNB\n",
    "from sklearn.svm import SVC\n",
    "from xgboost import XGBClassifier"
   ]
  },
  {
   "cell_type": "code",
   "execution_count": 339,
   "metadata": {},
   "outputs": [],
   "source": [
    "#Import KFold cross val technique.\n",
    "from sklearn.model_selection import KFold\n",
    "from sklearn.model_selection import cross_val_score\n",
    "k_fold = KFold(n_splits=10, shuffle=True, random_state=0)"
   ]
  },
  {
   "cell_type": "markdown",
   "metadata": {},
   "source": [
    "## Decision Tree Classifier"
   ]
  },
  {
   "cell_type": "code",
   "execution_count": 340,
   "metadata": {},
   "outputs": [
    {
     "name": "stdout",
     "output_type": "stream",
     "text": [
      "[0.8125 0.7875 0.7625 0.8375 0.7875 0.7375 0.8    0.8125 0.75   0.825 ]\n"
     ]
    }
   ],
   "source": [
    "dtc = DecisionTreeClassifier()\n",
    "dtc.fit(x_train,y_train)\n",
    "scoring = 'accuracy'\n",
    "score = cross_val_score(dtc, x_train, y_train, cv=k_fold, n_jobs=1, scoring=scoring)\n",
    "print(score)"
   ]
  },
  {
   "cell_type": "code",
   "execution_count": 341,
   "metadata": {},
   "outputs": [
    {
     "data": {
      "text/plain": [
       "79.12"
      ]
     },
     "execution_count": 341,
     "metadata": {},
     "output_type": "execute_result"
    }
   ],
   "source": [
    "dtc_score=round(np.mean(score)*100, 2)\n",
    "dtc_score"
   ]
  },
  {
   "cell_type": "markdown",
   "metadata": {},
   "source": [
    "## Random Forest Classifier"
   ]
  },
  {
   "cell_type": "code",
   "execution_count": 342,
   "metadata": {},
   "outputs": [
    {
     "name": "stdout",
     "output_type": "stream",
     "text": [
      "[0.825  0.7875 0.8375 0.8375 0.825  0.8125 0.8125 0.8625 0.7625 0.875 ]\n"
     ]
    }
   ],
   "source": [
    "rfc = RandomForestClassifier(n_estimators=30)\n",
    "rfc.fit(x_train,y_train)\n",
    "scoring = 'accuracy'\n",
    "score = cross_val_score(rfc, x_train, y_train, cv=k_fold, n_jobs=1, scoring=scoring)\n",
    "print(score)"
   ]
  },
  {
   "cell_type": "code",
   "execution_count": 343,
   "metadata": {},
   "outputs": [
    {
     "data": {
      "text/plain": [
       "82.38"
      ]
     },
     "execution_count": 343,
     "metadata": {},
     "output_type": "execute_result"
    }
   ],
   "source": [
    "rfc_score=round(np.mean(score)*100, 2)\n",
    "rfc_score"
   ]
  },
  {
   "cell_type": "markdown",
   "metadata": {},
   "source": [
    "## KNN Classifier"
   ]
  },
  {
   "cell_type": "code",
   "execution_count": 344,
   "metadata": {},
   "outputs": [
    {
     "name": "stdout",
     "output_type": "stream",
     "text": [
      "[0.775  0.725  0.6625 0.775  0.75   0.7875 0.75   0.8    0.75   0.8125]\n"
     ]
    }
   ],
   "source": [
    "knn = KNeighborsClassifier(n_neighbors = 3)\n",
    "scoring='accuracy'\n",
    "knn.fit(x_train, y_train)\n",
    "score = cross_val_score(knn, x_train, y_train, cv=k_fold, n_jobs=1,)\n",
    "print(score)"
   ]
  },
  {
   "cell_type": "code",
   "execution_count": 345,
   "metadata": {},
   "outputs": [
    {
     "data": {
      "text/plain": [
       "75.88"
      ]
     },
     "execution_count": 345,
     "metadata": {},
     "output_type": "execute_result"
    }
   ],
   "source": [
    "knn_score=round(np.mean(score)*100, 2)\n",
    "knn_score"
   ]
  },
  {
   "cell_type": "markdown",
   "metadata": {},
   "source": [
    "## NaiveBayes Classifier"
   ]
  },
  {
   "cell_type": "code",
   "execution_count": 346,
   "metadata": {},
   "outputs": [
    {
     "data": {
      "text/plain": [
       "83.5"
      ]
     },
     "execution_count": 346,
     "metadata": {},
     "output_type": "execute_result"
    }
   ],
   "source": [
    "gaussian = GaussianNB()\n",
    "gaussian.fit(x_train, y_train)\n",
    "guassian_score=round(gaussian.score(x_train, y_train) * 100, 2)\n",
    "guassian_score"
   ]
  },
  {
   "cell_type": "markdown",
   "metadata": {},
   "source": [
    "## Support Vector Machine"
   ]
  },
  {
   "cell_type": "code",
   "execution_count": 347,
   "metadata": {},
   "outputs": [
    {
     "data": {
      "text/plain": [
       "82.25"
      ]
     },
     "execution_count": 347,
     "metadata": {},
     "output_type": "execute_result"
    }
   ],
   "source": [
    "svc = SVC()\n",
    "svc.fit(x_train, y_train)\n",
    "svc_score= round(svc.score(x_train, y_train) * 100, 2)\n",
    "svc_score"
   ]
  },
  {
   "cell_type": "markdown",
   "metadata": {},
   "source": [
    "## XGBoost Classifier"
   ]
  },
  {
   "cell_type": "code",
   "execution_count": 348,
   "metadata": {},
   "outputs": [
    {
     "data": {
      "text/plain": [
       "90.62"
      ]
     },
     "execution_count": 348,
     "metadata": {},
     "output_type": "execute_result"
    }
   ],
   "source": [
    "xgb=XGBClassifier()\n",
    "xgb.fit(x_train,y_train)\n",
    "xgb_score=round(xgb.score(x_train,y_train)*100,2)\n",
    "xgb_score"
   ]
  },
  {
   "cell_type": "markdown",
   "metadata": {},
   "source": [
    "## Checking which is  the best model to predict"
   ]
  },
  {
   "cell_type": "code",
   "execution_count": 349,
   "metadata": {},
   "outputs": [
    {
     "data": {
      "text/html": [
       "<div>\n",
       "<style scoped>\n",
       "    .dataframe tbody tr th:only-of-type {\n",
       "        vertical-align: middle;\n",
       "    }\n",
       "\n",
       "    .dataframe tbody tr th {\n",
       "        vertical-align: top;\n",
       "    }\n",
       "\n",
       "    .dataframe thead th {\n",
       "        text-align: right;\n",
       "    }\n",
       "</style>\n",
       "<table border=\"1\" class=\"dataframe\">\n",
       "  <thead>\n",
       "    <tr style=\"text-align: right;\">\n",
       "      <th></th>\n",
       "      <th>Model</th>\n",
       "      <th>Score</th>\n",
       "    </tr>\n",
       "  </thead>\n",
       "  <tbody>\n",
       "    <tr>\n",
       "      <th>5</th>\n",
       "      <td>XGBoost Classifier</td>\n",
       "      <td>90.62</td>\n",
       "    </tr>\n",
       "    <tr>\n",
       "      <th>3</th>\n",
       "      <td>Naive Bayes Classifier</td>\n",
       "      <td>83.50</td>\n",
       "    </tr>\n",
       "    <tr>\n",
       "      <th>2</th>\n",
       "      <td>Random Forest</td>\n",
       "      <td>82.38</td>\n",
       "    </tr>\n",
       "    <tr>\n",
       "      <th>0</th>\n",
       "      <td>Support Vector Machine</td>\n",
       "      <td>82.25</td>\n",
       "    </tr>\n",
       "    <tr>\n",
       "      <th>4</th>\n",
       "      <td>Decision Tree</td>\n",
       "      <td>79.12</td>\n",
       "    </tr>\n",
       "    <tr>\n",
       "      <th>1</th>\n",
       "      <td>KNN</td>\n",
       "      <td>75.88</td>\n",
       "    </tr>\n",
       "  </tbody>\n",
       "</table>\n",
       "</div>"
      ],
      "text/plain": [
       "                    Model  Score\n",
       "5      XGBoost Classifier  90.62\n",
       "3  Naive Bayes Classifier  83.50\n",
       "2           Random Forest  82.38\n",
       "0  Support Vector Machine  82.25\n",
       "4           Decision Tree  79.12\n",
       "1                     KNN  75.88"
      ]
     },
     "execution_count": 349,
     "metadata": {},
     "output_type": "execute_result"
    }
   ],
   "source": [
    "models = pd.DataFrame({\n",
    "        'Model': ['Support Vector Machine', 'KNN', 'Random Forest', 'Naive Bayes Classifier', 'Decision Tree','XGBoost Classifier'],\n",
    "        'Score': [svc_score, knn_score, rfc_score, \n",
    "              guassian_score, dtc_score, xgb_score]\n",
    "    })\n",
    "models.sort_values(by='Score', ascending=False)"
   ]
  },
  {
   "cell_type": "code",
   "execution_count": 350,
   "metadata": {},
   "outputs": [
    {
     "data": {
      "text/html": [
       "<div>\n",
       "<style scoped>\n",
       "    .dataframe tbody tr th:only-of-type {\n",
       "        vertical-align: middle;\n",
       "    }\n",
       "\n",
       "    .dataframe tbody tr th {\n",
       "        vertical-align: top;\n",
       "    }\n",
       "\n",
       "    .dataframe thead th {\n",
       "        text-align: right;\n",
       "    }\n",
       "</style>\n",
       "<table border=\"1\" class=\"dataframe\">\n",
       "  <thead>\n",
       "    <tr style=\"text-align: right;\">\n",
       "      <th></th>\n",
       "      <th>QualLevel</th>\n",
       "      <th>CGPA</th>\n",
       "      <th>CurrentExperience</th>\n",
       "      <th>SourceId</th>\n",
       "    </tr>\n",
       "  </thead>\n",
       "  <tbody>\n",
       "    <tr>\n",
       "      <th>841</th>\n",
       "      <td>4</td>\n",
       "      <td>8.8</td>\n",
       "      <td>5.27</td>\n",
       "      <td>3</td>\n",
       "    </tr>\n",
       "    <tr>\n",
       "      <th>956</th>\n",
       "      <td>2</td>\n",
       "      <td>5.3</td>\n",
       "      <td>2.90</td>\n",
       "      <td>2</td>\n",
       "    </tr>\n",
       "    <tr>\n",
       "      <th>544</th>\n",
       "      <td>4</td>\n",
       "      <td>7.9</td>\n",
       "      <td>8.78</td>\n",
       "      <td>2</td>\n",
       "    </tr>\n",
       "    <tr>\n",
       "      <th>173</th>\n",
       "      <td>3</td>\n",
       "      <td>4.3</td>\n",
       "      <td>0.78</td>\n",
       "      <td>3</td>\n",
       "    </tr>\n",
       "    <tr>\n",
       "      <th>759</th>\n",
       "      <td>3</td>\n",
       "      <td>5.7</td>\n",
       "      <td>8.19</td>\n",
       "      <td>3</td>\n",
       "    </tr>\n",
       "    <tr>\n",
       "      <th>955</th>\n",
       "      <td>5</td>\n",
       "      <td>4.9</td>\n",
       "      <td>3.87</td>\n",
       "      <td>3</td>\n",
       "    </tr>\n",
       "    <tr>\n",
       "      <th>121</th>\n",
       "      <td>5</td>\n",
       "      <td>7.6</td>\n",
       "      <td>6.07</td>\n",
       "      <td>2</td>\n",
       "    </tr>\n",
       "    <tr>\n",
       "      <th>230</th>\n",
       "      <td>5</td>\n",
       "      <td>5.7</td>\n",
       "      <td>8.66</td>\n",
       "      <td>2</td>\n",
       "    </tr>\n",
       "    <tr>\n",
       "      <th>11</th>\n",
       "      <td>4</td>\n",
       "      <td>8.0</td>\n",
       "      <td>3.92</td>\n",
       "      <td>2</td>\n",
       "    </tr>\n",
       "    <tr>\n",
       "      <th>120</th>\n",
       "      <td>4</td>\n",
       "      <td>5.5</td>\n",
       "      <td>7.77</td>\n",
       "      <td>2</td>\n",
       "    </tr>\n",
       "  </tbody>\n",
       "</table>\n",
       "</div>"
      ],
      "text/plain": [
       "     QualLevel  CGPA  CurrentExperience  SourceId\n",
       "841          4   8.8               5.27         3\n",
       "956          2   5.3               2.90         2\n",
       "544          4   7.9               8.78         2\n",
       "173          3   4.3               0.78         3\n",
       "759          3   5.7               8.19         3\n",
       "955          5   4.9               3.87         3\n",
       "121          5   7.6               6.07         2\n",
       "230          5   5.7               8.66         2\n",
       "11           4   8.0               3.92         2\n",
       "120          4   5.5               7.77         2"
      ]
     },
     "execution_count": 350,
     "metadata": {},
     "output_type": "execute_result"
    }
   ],
   "source": [
    "x_test.head(10)"
   ]
  },
  {
   "cell_type": "markdown",
   "metadata": {},
   "source": [
    "## Now, finally its time to predict the data."
   ]
  },
  {
   "cell_type": "code",
   "execution_count": 353,
   "metadata": {},
   "outputs": [
    {
     "data": {
      "text/plain": [
       "array([1], dtype=int64)"
      ]
     },
     "execution_count": 353,
     "metadata": {},
     "output_type": "execute_result"
    }
   ],
   "source": [
    "#Predicting on input data as: QualLevel=5 i.e MS/MTech, CGPA=9, CurrentExperience=3, SourceId=6 Referral.\n",
    "rfc.predict([[3,3,3,4]])"
   ]
  },
  {
   "cell_type": "markdown",
   "metadata": {},
   "source": [
    "#### Gives output as 3 i.e Stage  7 & 8 !!!!!"
   ]
  },
  {
   "cell_type": "code",
   "execution_count": null,
   "metadata": {},
   "outputs": [],
   "source": []
  }
 ],
 "metadata": {
  "kernelspec": {
   "display_name": "Python 3",
   "language": "python",
   "name": "python3"
  },
  "language_info": {
   "codemirror_mode": {
    "name": "ipython",
    "version": 3
   },
   "file_extension": ".py",
   "mimetype": "text/x-python",
   "name": "python",
   "nbconvert_exporter": "python",
   "pygments_lexer": "ipython3",
   "version": "3.7.6"
  }
 },
 "nbformat": 4,
 "nbformat_minor": 4
}
